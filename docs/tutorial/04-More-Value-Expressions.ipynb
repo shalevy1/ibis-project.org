{
 "cells": [
  {
   "cell_type": "markdown",
   "metadata": {},
   "source": [
    "# More Value Expressions"
   ]
  },
  {
   "cell_type": "markdown",
   "metadata": {},
   "source": [
    "## Setup"
   ]
  },
  {
   "cell_type": "code",
   "execution_count": 1,
   "metadata": {},
   "outputs": [],
   "source": [
    "import ibis\n",
    "import os\n",
    "hdfs_port = os.environ.get('IBIS_WEBHDFS_PORT', 50070)\n",
    "hdfs = ibis.hdfs_connect(host='impala', port=hdfs_port)\n",
    "con = ibis.impala.connect(host='impala', database='ibis_testing',\n",
    "                          hdfs_client=hdfs)\n",
    "ibis.options.interactive = True"
   ]
  },
  {
   "cell_type": "markdown",
   "metadata": {},
   "source": [
    "## Type casting\n",
    "\n",
    "The Ibis type system is pretty basic and will get better (and more documented over time). It maps directly onto the current Impala type system\n",
    "\n",
    "- `int8`\n",
    "- `int16`\n",
    "- `int32`\n",
    "- `int64`\n",
    "- `boolean`\n",
    "- `float`\n",
    "- `double`\n",
    "- `string`\n",
    "- `timestamp`\n",
    "- `decimal($precision, $scale)`\n",
    "\n",
    "These type names can be used to cast from one type to another"
   ]
  },
  {
   "cell_type": "code",
   "execution_count": 2,
   "metadata": {},
   "outputs": [
    {
     "data": {
      "text/plain": [
       "32850.0"
      ]
     },
     "execution_count": 2,
     "metadata": {},
     "output_type": "execute_result"
    }
   ],
   "source": [
    "table = con.table('functional_alltypes')\n",
    "table.string_col.cast('double').sum()"
   ]
  },
  {
   "cell_type": "code",
   "execution_count": 3,
   "metadata": {},
   "outputs": [
    {
     "data": {
      "text/plain": [
       "Decimal('32850.00')"
      ]
     },
     "execution_count": 3,
     "metadata": {},
     "output_type": "execute_result"
    }
   ],
   "source": [
    "table.string_col.cast('decimal(12,2)').sum()"
   ]
  },
  {
   "cell_type": "markdown",
   "metadata": {},
   "source": [
    "## Case / if-then-else expressions\n",
    "\n",
    "\n",
    "We support a number of variants of the SQL-equivalent `CASE` expression, and will add more API functions over time to meet different use cases and enhance the expressiveness of any branching-based value logic."
   ]
  },
  {
   "cell_type": "code",
   "execution_count": 4,
   "metadata": {},
   "outputs": [
    {
     "data": {
      "text/plain": [
       "  new_strings  count\n",
       "0           9    730\n",
       "1           3    730\n",
       "2           6    730\n",
       "3          fi    730\n",
       "4         fee    730\n",
       "5           8    730\n",
       "6           2    730\n",
       "7          fo    730\n",
       "8           5    730\n",
       "9         fum    730"
      ]
     },
     "execution_count": 4,
     "metadata": {},
     "output_type": "execute_result"
    }
   ],
   "source": [
    "expr = (table.string_col\n",
    "        .case()\n",
    "        .when('4', 'fee')\n",
    "        .when('7', 'fi')\n",
    "        .when('1', 'fo')\n",
    "        .when('0', 'fum')\n",
    "        .else_(table.string_col)\n",
    "        .end()\n",
    "        .name('new_strings'))\n",
    "\n",
    "expr.value_counts()"
   ]
  },
  {
   "cell_type": "markdown",
   "metadata": {},
   "source": [
    "If the `else_` default condition is not provided, any values not matching one of the conditions will be `NULL`."
   ]
  },
  {
   "cell_type": "code",
   "execution_count": 5,
   "metadata": {},
   "outputs": [
    {
     "data": {
      "text/plain": [
       "  with_nulls  count\n",
       "0        NaN   5840\n",
       "1         fi    730\n",
       "2        fee    730"
      ]
     },
     "execution_count": 5,
     "metadata": {},
     "output_type": "execute_result"
    }
   ],
   "source": [
    "expr = (table.string_col\n",
    "        .case()\n",
    "        .when('4', 'fee')\n",
    "        .when('7', 'fi')\n",
    "        .end()\n",
    "        .name('with_nulls'))\n",
    "\n",
    "expr.value_counts()"
   ]
  },
  {
   "cell_type": "markdown",
   "metadata": {},
   "source": [
    "To test for an arbitrary series of boolean conditions, use the `case` API method and pass any boolean expressions potentially involving columns of the table:"
   ]
  },
  {
   "cell_type": "code",
   "execution_count": 6,
   "metadata": {},
   "outputs": [
    {
     "data": {
      "text/plain": [
       "      id  int_col  bigint_col  case_result\n",
       "0   5770        0           0            0\n",
       "1   5771        1          10            1\n",
       "2   5772        2          20            2\n",
       "3   5773        3          30           30\n",
       "4   5774        4          40           40\n",
       "5   5775        5          50           50\n",
       "6   5776        6          60          120\n",
       "7   5777        7          70          140\n",
       "8   5778        8          80          160\n",
       "9   5779        9          90          180\n",
       "10  5780        0           0            0\n",
       "11  5781        1          10            1\n",
       "12  5782        2          20            2\n",
       "13  5783        3          30           30\n",
       "14  5784        4          40           40\n",
       "15  5785        5          50           50\n",
       "16  5786        6          60          120\n",
       "17  5787        7          70          140\n",
       "18  5788        8          80          160\n",
       "19  5789        9          90          180"
      ]
     },
     "execution_count": 6,
     "metadata": {},
     "output_type": "execute_result"
    }
   ],
   "source": [
    "expr = (ibis.case()\n",
    "        .when(table.int_col > 5, table.bigint_col * 2)\n",
    "        .when(table.int_col > 2, table.bigint_col)\n",
    "        .else_(table.int_col)\n",
    "        .end())\n",
    "\n",
    "table['id', 'int_col', 'bigint_col', expr.name('case_result')].limit(20)"
   ]
  },
  {
   "cell_type": "markdown",
   "metadata": {},
   "source": [
    "Simple ternary-cases (like the Python `X if COND else Y`) can be written using the `ifelse` function:"
   ]
  },
  {
   "cell_type": "code",
   "execution_count": 7,
   "metadata": {},
   "outputs": [
    {
     "data": {
      "text/plain": [
       "   int_col  bigint_col  ifelse_result\n",
       "0        0           0            0.0\n",
       "1        1          10           20.0\n",
       "2        2          20           40.0\n",
       "3        3          30           60.0\n",
       "4        4          40           80.0\n",
       "5        5          50          100.0\n",
       "6        6          60           30.0\n",
       "7        7          70           35.0\n",
       "8        8          80           40.0\n",
       "9        9          90           45.0"
      ]
     },
     "execution_count": 7,
     "metadata": {},
     "output_type": "execute_result"
    }
   ],
   "source": [
    "expr = ((table.int_col > 5)\n",
    "        .ifelse(table.bigint_col / 2, table.bigint_col * 2)\n",
    "        .name('ifelse_result'))\n",
    "\n",
    "table['int_col', 'bigint_col', expr].limit(10)"
   ]
  },
  {
   "cell_type": "markdown",
   "metadata": {},
   "source": [
    "## Set membership\n",
    "\n",
    "\n",
    "The `isin` and `notin` functions are like their pandas counterparts. These can take:\n",
    "\n",
    "- A list of value expressions, either literal values or other column expressions\n",
    "- An array/column expression of some kind"
   ]
  },
  {
   "cell_type": "code",
   "execution_count": 8,
   "metadata": {},
   "outputs": [
    {
     "data": {
      "text/plain": [
       "  string_col  count\n",
       "0          9    730\n",
       "1          3    730\n",
       "2          6    730\n",
       "3          8    730\n",
       "4          2    730\n",
       "5          5    730\n",
       "6          0    730"
      ]
     },
     "execution_count": 8,
     "metadata": {},
     "output_type": "execute_result"
    }
   ],
   "source": [
    "bool_clause = table.string_col.notin(['1', '4', '7'])\n",
    "table[bool_clause].string_col.value_counts()"
   ]
  },
  {
   "cell_type": "markdown",
   "metadata": {},
   "source": [
    "You can also check for membership in an array. Here is an example of filtering based on the top 3 (ignoring ties) most frequently-occurring values in the `string_col` column of alltypes:"
   ]
  },
  {
   "cell_type": "code",
   "execution_count": 9,
   "metadata": {},
   "outputs": [
    {
     "data": {
      "text/plain": [
       "2190"
      ]
     },
     "execution_count": 9,
     "metadata": {},
     "output_type": "execute_result"
    }
   ],
   "source": [
    "top_strings = table.string_col.value_counts().limit(3).string_col\n",
    "top_filter = table.string_col.isin(top_strings)\n",
    "expr = table[top_filter]\n",
    "\n",
    "expr.count()"
   ]
  },
  {
   "cell_type": "markdown",
   "metadata": {},
   "source": [
    "This is a common enough operation that we provide a special analytical filter function `topk`:"
   ]
  },
  {
   "cell_type": "code",
   "execution_count": 10,
   "metadata": {},
   "outputs": [
    {
     "data": {
      "text/plain": [
       "2190"
      ]
     },
     "execution_count": 10,
     "metadata": {},
     "output_type": "execute_result"
    }
   ],
   "source": [
    "table[table.string_col.topk(3)].count()"
   ]
  },
  {
   "cell_type": "markdown",
   "metadata": {},
   "source": [
    "Cool, huh? More on `topk` later."
   ]
  },
  {
   "cell_type": "markdown",
   "metadata": {},
   "source": [
    "## Null-ness\n",
    "\n",
    "Like their pandas equivalents, the `isnull` and `notnull` functions return True values if the values are null, or non-null, respectively. For example:"
   ]
  },
  {
   "cell_type": "code",
   "execution_count": 11,
   "metadata": {},
   "outputs": [
    {
     "data": {
      "text/plain": [
       "   unnamed  count\n",
       "0     True   5110\n",
       "1    False   2190"
      ]
     },
     "execution_count": 11,
     "metadata": {},
     "output_type": "execute_result"
    }
   ],
   "source": [
    "expr = (table.string_col\n",
    "        .case()\n",
    "        .when('4', 'fee')\n",
    "        .when('7', 'fi')\n",
    "        .when('1', 'fo')\n",
    "        .end()\n",
    "        .name('new_strings'))\n",
    "\n",
    "expr.isnull().value_counts()"
   ]
  },
  {
   "cell_type": "markdown",
   "metadata": {},
   "source": [
    "Functions like `isnull` can be combined with `case` expressions or functions like `ifelse` to replace null values with some other value. `ifelse` here will use the first value supplied for any `True` value and the second value for any `False` value. Either value can be a scalar or array. "
   ]
  },
  {
   "cell_type": "code",
   "execution_count": 12,
   "metadata": {},
   "outputs": [
    {
     "data": {
      "text/plain": [
       "    strings  count\n",
       "0        fi    730\n",
       "1  was null   5110\n",
       "2       fee    730\n",
       "3        fo    730"
      ]
     },
     "execution_count": 12,
     "metadata": {},
     "output_type": "execute_result"
    }
   ],
   "source": [
    "expr2 = expr.isnull().ifelse('was null', expr).name('strings')\n",
    "expr2.value_counts()"
   ]
  },
  {
   "cell_type": "markdown",
   "metadata": {},
   "source": [
    "## Distinct-based operations\n",
    "\n",
    "\n",
    "Ibis supports using `distinct` to remove duplicate rows or values on tables or arrays. For example:"
   ]
  },
  {
   "cell_type": "code",
   "execution_count": 13,
   "metadata": {},
   "outputs": [
    {
     "data": {
      "text/plain": [
       "   int_col  bigint_col\n",
       "0        8          80\n",
       "1        2          20\n",
       "2        1          10\n",
       "3        4          40\n",
       "4        6          60\n",
       "5        5          50\n",
       "6        0           0\n",
       "7        3          30\n",
       "8        9          90\n",
       "9        7          70"
      ]
     },
     "execution_count": 13,
     "metadata": {},
     "output_type": "execute_result"
    }
   ],
   "source": [
    "table['int_col', 'bigint_col'].distinct()"
   ]
  },
  {
   "cell_type": "code",
   "execution_count": 14,
   "metadata": {},
   "outputs": [
    {
     "data": {
      "text/plain": [
       "0    9\n",
       "1    3\n",
       "2    6\n",
       "3    4\n",
       "4    1\n",
       "5    8\n",
       "6    2\n",
       "7    7\n",
       "8    5\n",
       "9    0\n",
       "Name: string_col, dtype: object"
      ]
     },
     "execution_count": 14,
     "metadata": {},
     "output_type": "execute_result"
    }
   ],
   "source": [
    "table.string_col.distinct()"
   ]
  },
  {
   "cell_type": "markdown",
   "metadata": {},
   "source": [
    "This can be combined with `count` to form a reduction metric:"
   ]
  },
  {
   "cell_type": "code",
   "execution_count": 15,
   "metadata": {},
   "outputs": [],
   "source": [
    "metric = (table.bigint_col\n",
    "          .distinct().count()\n",
    "          .name('unique_bigints'))"
   ]
  },
  {
   "cell_type": "markdown",
   "metadata": {},
   "source": [
    "This is common enough to have a shortcut `nunique`:"
   ]
  },
  {
   "cell_type": "code",
   "execution_count": 16,
   "metadata": {},
   "outputs": [
    {
     "data": {
      "text/plain": [
       "10"
      ]
     },
     "execution_count": 16,
     "metadata": {},
     "output_type": "execute_result"
    }
   ],
   "source": [
    "table.string_col.nunique()"
   ]
  },
  {
   "cell_type": "markdown",
   "metadata": {},
   "source": [
    "## String operations\n",
    "\n",
    "\n",
    "What's supported is pretty basic right now. We intend to support the full gamut of regular expression munging with a nice API, though in some cases some work will be required on Impala's backend to support everything. "
   ]
  },
  {
   "cell_type": "code",
   "execution_count": 17,
   "metadata": {},
   "outputs": [
    {
     "data": {
      "text/plain": [
       "   n_nationkey     n_name  n_regionkey  \\\n",
       "0            0    ALGERIA            0   \n",
       "1            1  ARGENTINA            1   \n",
       "2            2     BRAZIL            1   \n",
       "3            3     CANADA            1   \n",
       "4            4      EGYPT            4   \n",
       "\n",
       "                                           n_comment  \n",
       "0   haggle. carefully final deposits detect slyly...  \n",
       "1  al foxes promise slyly according to the regula...  \n",
       "2  y alongside of the pending deposits. carefully...  \n",
       "3  eas hang ironic, silent packages. slyly regula...  \n",
       "4  y above the carefully unusual theodolites. fin...  "
      ]
     },
     "execution_count": 17,
     "metadata": {},
     "output_type": "execute_result"
    }
   ],
   "source": [
    "nation = con.table('tpch_nation')\n",
    "nation.limit(5)"
   ]
  },
  {
   "cell_type": "markdown",
   "metadata": {},
   "source": [
    "At the moment, basic substring operations (`substr`, with conveniences `left` and `right`) and Python-like APIs such as `lower` and `upper` (for case normalization) are supported. So you could count first letter occurrences in a string column like so:"
   ]
  },
  {
   "cell_type": "code",
   "execution_count": 18,
   "metadata": {},
   "outputs": [
    {
     "data": {
      "text/plain": [
       "   first_letter  count\n",
       "0             i      4\n",
       "1             a      2\n",
       "2             c      2\n",
       "3             j      2\n",
       "4             u      2\n",
       "5             m      2\n",
       "6             r      2\n",
       "7             e      2\n",
       "8             f      1\n",
       "9             v      1\n",
       "10            p      1\n",
       "11            b      1\n",
       "12            k      1\n",
       "13            s      1\n",
       "14            g      1"
      ]
     },
     "execution_count": 18,
     "metadata": {},
     "output_type": "execute_result"
    }
   ],
   "source": [
    "expr = nation.n_name.lower().left(1).name('first_letter')\n",
    "expr.value_counts().sort_by(('count', False))"
   ]
  },
  {
   "cell_type": "markdown",
   "metadata": {},
   "source": [
    "For fuzzy and regex filtering/searching, you can use one of the following\n",
    "\n",
    "- `like`, works as the SQL `LIKE` keyword\n",
    "- `rlike`, like `re.search` or SQL `RLIKE`\n",
    "- `contains`, like `x in str_value` in Python"
   ]
  },
  {
   "cell_type": "code",
   "execution_count": 19,
   "metadata": {},
   "outputs": [
    {
     "data": {
      "text/plain": [
       "   n_nationkey     n_name  n_regionkey  \\\n",
       "0            0    ALGERIA            0   \n",
       "1            1  ARGENTINA            1   \n",
       "2            7    GERMANY            3   \n",
       "\n",
       "                                           n_comment  \n",
       "0   haggle. carefully final deposits detect slyly...  \n",
       "1  al foxes promise slyly according to the regula...  \n",
       "2  l platelets. regular accounts x-ray: unusual, ...  "
      ]
     },
     "execution_count": 19,
     "metadata": {},
     "output_type": "execute_result"
    }
   ],
   "source": [
    "nation[nation.n_name.like('%GE%')]"
   ]
  },
  {
   "cell_type": "code",
   "execution_count": 20,
   "metadata": {},
   "outputs": [
    {
     "data": {
      "text/plain": [
       "   n_nationkey     n_name  n_regionkey  \\\n",
       "0            0    ALGERIA            0   \n",
       "1            1  ARGENTINA            1   \n",
       "2            7    GERMANY            3   \n",
       "\n",
       "                                           n_comment  \n",
       "0   haggle. carefully final deposits detect slyly...  \n",
       "1  al foxes promise slyly according to the regula...  \n",
       "2  l platelets. regular accounts x-ray: unusual, ...  "
      ]
     },
     "execution_count": 20,
     "metadata": {},
     "output_type": "execute_result"
    }
   ],
   "source": [
    "nation[nation.n_name.lower().rlike('.*ge.*')]"
   ]
  },
  {
   "cell_type": "code",
   "execution_count": 21,
   "metadata": {},
   "outputs": [
    {
     "data": {
      "text/plain": [
       "   n_nationkey     n_name  n_regionkey  \\\n",
       "0            0    ALGERIA            0   \n",
       "1            1  ARGENTINA            1   \n",
       "2            7    GERMANY            3   \n",
       "\n",
       "                                           n_comment  \n",
       "0   haggle. carefully final deposits detect slyly...  \n",
       "1  al foxes promise slyly according to the regula...  \n",
       "2  l platelets. regular accounts x-ray: unusual, ...  "
      ]
     },
     "execution_count": 21,
     "metadata": {},
     "output_type": "execute_result"
    }
   ],
   "source": [
    "nation[nation.n_name.lower().contains('ge')]"
   ]
  },
  {
   "cell_type": "markdown",
   "metadata": {},
   "source": [
    "## Timestamp operations\n",
    "\n",
    "\n",
    "Date and time functionality is relatively limited at present compared with pandas, but we'll get there. The main things we have right now are\n",
    "\n",
    "- Field access (year, month, day, ...)\n",
    "- Timedeltas\n",
    "- Comparisons with fixed timestamps"
   ]
  },
  {
   "cell_type": "code",
   "execution_count": 22,
   "metadata": {},
   "outputs": [
    {
     "data": {
      "text/plain": [
       "            timestamp_col  minute\n",
       "0 2010-08-01 00:00:00.000       0\n",
       "1 2010-08-01 00:01:00.000       1\n",
       "2 2010-08-01 00:02:00.100       2\n",
       "3 2010-08-01 00:03:00.300       3\n",
       "4 2010-08-01 00:04:00.600       4\n",
       "5 2010-08-01 00:05:00.100       5\n",
       "6 2010-08-01 00:06:00.150       6\n",
       "7 2010-08-01 00:07:00.210       7\n",
       "8 2010-08-01 00:08:00.280       8\n",
       "9 2010-08-01 00:09:00.360       9"
      ]
     },
     "execution_count": 22,
     "metadata": {},
     "output_type": "execute_result"
    }
   ],
   "source": [
    "table = con.table('functional_alltypes')\n",
    "\n",
    "table[table.timestamp_col, table.timestamp_col.minute().name('minute')].limit(10)"
   ]
  },
  {
   "cell_type": "markdown",
   "metadata": {},
   "source": [
    "Somewhat more comprehensively"
   ]
  },
  {
   "cell_type": "code",
   "execution_count": 23,
   "metadata": {},
   "outputs": [
    {
     "data": {
      "text/plain": [
       "            timestamp_col  year  month  day  hour  minute  second  millisecond\n",
       "0 2010-08-01 00:00:00.000  2010      8    1     0       0       0            0\n",
       "1 2010-08-01 00:01:00.000  2010      8    1     0       1       0            0\n",
       "2 2010-08-01 00:02:00.100  2010      8    1     0       2       0          100\n",
       "3 2010-08-01 00:03:00.300  2010      8    1     0       3       0          300\n",
       "4 2010-08-01 00:04:00.600  2010      8    1     0       4       0          600\n",
       "5 2010-08-01 00:05:00.100  2010      8    1     0       5       0          100\n",
       "6 2010-08-01 00:06:00.150  2010      8    1     0       6       0          150\n",
       "7 2010-08-01 00:07:00.210  2010      8    1     0       7       0          210\n",
       "8 2010-08-01 00:08:00.280  2010      8    1     0       8       0          280\n",
       "9 2010-08-01 00:09:00.360  2010      8    1     0       9       0          360"
      ]
     },
     "execution_count": 23,
     "metadata": {},
     "output_type": "execute_result"
    }
   ],
   "source": [
    "def get_field(f):\n",
    "    return getattr(table.timestamp_col, f)().name(f)\n",
    "\n",
    "fields = ['year', 'month', 'day', 'hour', 'minute', 'second', 'millisecond']\n",
    "projection = [table.timestamp_col] + [get_field(x) for x in fields]\n",
    "table[projection].limit(10)"
   ]
  },
  {
   "cell_type": "markdown",
   "metadata": {},
   "source": [
    "For timestamp arithmetic and comparisons, check out functions in the top level `ibis` namespace. This include things like `day` and `second`, but also the `ibis.timestamp` function:"
   ]
  },
  {
   "cell_type": "code",
   "execution_count": 24,
   "metadata": {},
   "outputs": [
    {
     "data": {
      "text/plain": [
       "            min                     max  nrows\n",
       "0    2009-01-01 2010-12-31 05:09:13.860   7300\n",
       "1    2009-01-01 2010-12-31 05:09:13.860   7300\n",
       "2    2009-01-01 2010-12-31 05:09:13.860   7300\n",
       "3    2009-01-01 2010-12-31 05:09:13.860   7300\n",
       "4    2009-01-01 2010-12-31 05:09:13.860   7300\n",
       "...         ...                     ...    ...\n",
       "7295 2009-01-01 2010-12-31 05:09:13.860   7300\n",
       "7296 2009-01-01 2010-12-31 05:09:13.860   7300\n",
       "7297 2009-01-01 2010-12-31 05:09:13.860   7300\n",
       "7298 2009-01-01 2010-12-31 05:09:13.860   7300\n",
       "7299 2009-01-01 2010-12-31 05:09:13.860   7300\n",
       "\n",
       "[7300 rows x 3 columns]"
      ]
     },
     "execution_count": 24,
     "metadata": {},
     "output_type": "execute_result"
    }
   ],
   "source": [
    "table[table.timestamp_col.min(), table.timestamp_col.max(), table.count().name('nrows')]"
   ]
  },
  {
   "cell_type": "code",
   "execution_count": 25,
   "metadata": {},
   "outputs": [
    {
     "data": {
      "text/plain": [
       "3650"
      ]
     },
     "execution_count": 25,
     "metadata": {},
     "output_type": "execute_result"
    }
   ],
   "source": [
    "table[table.timestamp_col < '2010-01-01'].count()"
   ]
  },
  {
   "cell_type": "code",
   "execution_count": 26,
   "metadata": {},
   "outputs": [
    {
     "data": {
      "text/plain": [
       "4550"
      ]
     },
     "execution_count": 26,
     "metadata": {},
     "output_type": "execute_result"
    }
   ],
   "source": [
    "table[table.timestamp_col < \n",
    "      (ibis.timestamp('2010-01-01') + ibis.interval(months=3))].count()"
   ]
  },
  {
   "cell_type": "code",
   "execution_count": 27,
   "metadata": {},
   "outputs": [
    {
     "data": {
      "text/plain": [
       "            timestamp_col                  offset               current_time\n",
       "0 2010-08-01 00:00:00.000 2010-08-02 04:00:00.000 2020-07-21 12:40:42.198690\n",
       "1 2010-08-01 00:01:00.000 2010-08-02 04:01:00.000 2020-07-21 12:40:42.198690\n",
       "2 2010-08-01 00:02:00.100 2010-08-02 04:02:00.100 2020-07-21 12:40:42.198690\n",
       "3 2010-08-01 00:03:00.300 2010-08-02 04:03:00.300 2020-07-21 12:40:42.198690\n",
       "4 2010-08-01 00:04:00.600 2010-08-02 04:04:00.600 2020-07-21 12:40:42.198690\n",
       "5 2010-08-01 00:05:00.100 2010-08-02 04:05:00.100 2020-07-21 12:40:42.198690\n",
       "6 2010-08-01 00:06:00.150 2010-08-02 04:06:00.150 2020-07-21 12:40:42.198690\n",
       "7 2010-08-01 00:07:00.210 2010-08-02 04:07:00.210 2020-07-21 12:40:42.198690\n",
       "8 2010-08-01 00:08:00.280 2010-08-02 04:08:00.280 2020-07-21 12:40:42.198690\n",
       "9 2010-08-01 00:09:00.360 2010-08-02 04:09:00.360 2020-07-21 12:40:42.198690"
      ]
     },
     "execution_count": 27,
     "metadata": {},
     "output_type": "execute_result"
    }
   ],
   "source": [
    "expr = (table.timestamp_col + ibis.interval(days=1) + ibis.interval(hours=4)).name('offset')\n",
    "table[table.timestamp_col, expr, ibis.now().name('current_time')].limit(10)"
   ]
  }
 ],
 "metadata": {
  "kernelspec": {
   "display_name": "Python 3",
   "language": "python",
   "name": "python3"
  },
  "language_info": {
   "codemirror_mode": {
    "name": "ipython",
    "version": 3
   },
   "file_extension": ".py",
   "mimetype": "text/x-python",
   "name": "python",
   "nbconvert_exporter": "python",
   "pygments_lexer": "ipython3",
   "version": "3.6.10"
  }
 },
 "nbformat": 4,
 "nbformat_minor": 1
}

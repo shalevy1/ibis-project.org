{
 "cells": [
  {
   "cell_type": "markdown",
   "metadata": {},
   "source": [
    "# Advanced Topics: Additional Filtering\n",
    "\n",
    "The filtering examples we've shown to this point have been pretty simple, either comparisons between columns or fixed values, or set filter functions like `isin` and `notin`. \n",
    "\n",
    "Ibis supports a number of richer analytical filters that can involve one or more of:\n",
    "\n",
    "- Aggregates computed from the same or other tables\n",
    "- Conditional aggregates (in SQL-speak these are similar to \"correlated subqueries\")\n",
    "- \"Existence\" set filters (equivalent to the SQL `EXISTS` and `NOT EXISTS` keywords)"
   ]
  },
  {
   "cell_type": "markdown",
   "metadata": {},
   "source": [
    "## Setup"
   ]
  },
  {
   "cell_type": "code",
   "execution_count": 1,
   "metadata": {},
   "outputs": [],
   "source": [
    "import ibis\n",
    "import os\n",
    "hdfs_port = os.environ.get('IBIS_WEBHDFS_PORT', 50070)\n",
    "hdfs = ibis.hdfs_connect(host='impala', port=hdfs_port)\n",
    "con = ibis.impala.connect(host='impala', database='ibis_testing',\n",
    "                          hdfs_client=hdfs)\n",
    "ibis.options.interactive = True"
   ]
  },
  {
   "cell_type": "markdown",
   "metadata": {},
   "source": [
    "## Using scalar aggregates in filters"
   ]
  },
  {
   "cell_type": "code",
   "execution_count": 2,
   "metadata": {},
   "outputs": [
    {
     "data": {
      "text/plain": [
       "     id  bool_col  tinyint_col  smallint_col  int_col  bigint_col  float_col  \\\n",
       "0  5770      True            0             0        0           0        0.0   \n",
       "1  5771     False            1             1        1          10        1.1   \n",
       "2  5772      True            2             2        2          20        2.2   \n",
       "3  5773     False            3             3        3          30        3.3   \n",
       "4  5774      True            4             4        4          40        4.4   \n",
       "\n",
       "   double_col date_string_col string_col           timestamp_col  year  month  \n",
       "0         0.0        08/01/10          0 2010-08-01 00:00:00.000  2010      8  \n",
       "1        10.1        08/01/10          1 2010-08-01 00:01:00.000  2010      8  \n",
       "2        20.2        08/01/10          2 2010-08-01 00:02:00.100  2010      8  \n",
       "3        30.3        08/01/10          3 2010-08-01 00:03:00.300  2010      8  \n",
       "4        40.4        08/01/10          4 2010-08-01 00:04:00.600  2010      8  "
      ]
     },
     "execution_count": 2,
     "metadata": {},
     "output_type": "execute_result"
    }
   ],
   "source": [
    "table = con.table('functional_alltypes')\n",
    "table.limit(5)"
   ]
  },
  {
   "cell_type": "markdown",
   "metadata": {},
   "source": [
    "We could always compute some aggregate value from the table and use that in another expression, or we can use a data-derived aggregate in the filter. Take the average of a column for example:"
   ]
  },
  {
   "cell_type": "code",
   "execution_count": 3,
   "metadata": {},
   "outputs": [
    {
     "data": {
      "text/plain": [
       "45.45000000000001"
      ]
     },
     "execution_count": 3,
     "metadata": {},
     "output_type": "execute_result"
    }
   ],
   "source": [
    "table.double_col.mean()"
   ]
  },
  {
   "cell_type": "markdown",
   "metadata": {},
   "source": [
    "You can use this expression as a substitute for a scalar value in a filter, and the execution engine will combine everything into a single query rather than having to access Impala multiple times:"
   ]
  },
  {
   "cell_type": "code",
   "execution_count": 4,
   "metadata": {},
   "outputs": [
    {
     "data": {
      "text/plain": [
       "     id  bool_col  tinyint_col  smallint_col  int_col  bigint_col  float_col  \\\n",
       "0  5776      True            6             6        6          60        6.6   \n",
       "1  5778      True            8             8        8          80        8.8   \n",
       "2  5786      True            6             6        6          60        6.6   \n",
       "3  5788      True            8             8        8          80        8.8   \n",
       "4  5796      True            6             6        6          60        6.6   \n",
       "\n",
       "   double_col date_string_col string_col           timestamp_col  year  month  \n",
       "0        60.6        08/01/10          6 2010-08-01 00:06:00.150  2010      8  \n",
       "1        80.8        08/01/10          8 2010-08-01 00:08:00.280  2010      8  \n",
       "2        60.6        08/02/10          6 2010-08-02 00:16:00.600  2010      8  \n",
       "3        80.8        08/02/10          8 2010-08-02 00:18:00.730  2010      8  \n",
       "4        60.6        08/03/10          6 2010-08-03 00:26:01.500  2010      8  "
      ]
     },
     "execution_count": 4,
     "metadata": {},
     "output_type": "execute_result"
    }
   ],
   "source": [
    "cond = table.bigint_col > table.double_col.mean()\n",
    "expr = table[cond & table.bool_col].limit(5)\n",
    "expr"
   ]
  },
  {
   "cell_type": "markdown",
   "metadata": {},
   "source": [
    "## Conditional aggregates\n",
    "\n",
    "\n",
    "Suppose that we wish to filter using an aggregate computed conditional on some other expressions holding true. Using the TPC-H datasets, suppose that we want to filter customers based on the following criteria: Orders such that their amount exceeds the average amount for their sales region over the whole dataset. This can be computed any numbers of ways (such as joining auxiliary tables and filtering post-join)\n",
    "\n",
    "Again, from prior examples, here are the joined up tables with all the customer data:"
   ]
  },
  {
   "cell_type": "code",
   "execution_count": 5,
   "metadata": {},
   "outputs": [
    {
     "data": {
      "text/plain": [
       "   c_custkey              c_name                            c_address  \\\n",
       "0     133885  Customer#000133885                         EVK76gJeTspw   \n",
       "1      36934  Customer#000036934                0rsf17ITLCTceWGXzpe9n   \n",
       "2      41483  Customer#000041483                          LNzmnS7zhAH   \n",
       "3     148102  Customer#000148102           sqd6wCIoHZ6qMdVveUERJraOO1   \n",
       "4      19864  Customer#000019864  juCsfGD12 ySsWfOrSp5TQyHbxmJMuYKp3k   \n",
       "\n",
       "   c_nationkey          c_phone c_acctbal c_mktsegment  \\\n",
       "0           24  34-956-563-4308   6723.55   AUTOMOBILE   \n",
       "1           10  20-879-918-2113   5928.79    FURNITURE   \n",
       "2            6  16-613-774-2621   6913.32    HOUSEHOLD   \n",
       "3            6  16-318-581-1666   8906.57     BUILDING   \n",
       "4           12  22-890-475-8535   4600.19    HOUSEHOLD   \n",
       "\n",
       "                                           c_comment       region  \\\n",
       "0  mptotes use blithely furiously regular escapad...      AMERICA   \n",
       "1  usual dependencies serve blithely deposits. ir...  MIDDLE EAST   \n",
       "2  structions. blithely final pearls boost around...       EUROPE   \n",
       "3  eas. deposits integrate along the slyly ironic...       EUROPE   \n",
       "4  careful braids. unusual, silent requests after...         ASIA   \n",
       "\n",
       "  o_totalprice      odate  \n",
       "0    160843.35 1992-06-22  \n",
       "1     78307.91 1996-04-19  \n",
       "2    103237.90 1994-10-12  \n",
       "3    201463.59 1997-09-12  \n",
       "4    166098.86 1995-09-12  "
      ]
     },
     "execution_count": 5,
     "metadata": {},
     "output_type": "execute_result"
    }
   ],
   "source": [
    "region = con.table('tpch_region')\n",
    "nation = con.table('tpch_nation')\n",
    "customer = con.table('tpch_customer')\n",
    "orders = con.table('tpch_orders')\n",
    "\n",
    "fields_of_interest = [customer,\n",
    "                      region.r_name.name('region'), \n",
    "                      orders.o_totalprice,\n",
    "                      orders.o_orderdate.cast('timestamp').name('odate')]\n",
    "\n",
    "tpch = (region.join(nation, region.r_regionkey == nation.n_regionkey)\n",
    "        .join(customer, customer.c_nationkey == nation.n_nationkey)\n",
    "        .join(orders, orders.o_custkey == customer.c_custkey)\n",
    "        [fields_of_interest])\n",
    "\n",
    "tpch.limit(5)"
   ]
  },
  {
   "cell_type": "markdown",
   "metadata": {},
   "source": [
    "In this particular case, filtering based on the conditional average `o_totalprice` by region requires creating a table view (similar to the self-join examples from earlier) that can be treated as a distinct table entity in the expression. This would **not** be required if we were computing a conditional statistic from some other table. So this is a little more complicated than some other cases would be:"
   ]
  },
  {
   "cell_type": "code",
   "execution_count": 6,
   "metadata": {},
   "outputs": [],
   "source": [
    "t2 = tpch.view()\n",
    "conditional_avg = t2[(t2.region == tpch.region)].o_totalprice.mean()"
   ]
  },
  {
   "cell_type": "markdown",
   "metadata": {},
   "source": [
    "Once you've done this, you can use the conditional average in a filter expression"
   ]
  },
  {
   "cell_type": "code",
   "execution_count": 7,
   "metadata": {
    "scrolled": true
   },
   "outputs": [
    {
     "data": {
      "text/plain": [
       "   c_custkey              c_name                              c_address  \\\n",
       "0      36901  Customer#000036901                   TBb1yDZcf 8Zepk7apFJ   \n",
       "1     123314  Customer#000123314   nKPmaZi,OKhObOYSL3wc egXR4Vt99CXRclF   \n",
       "2      39136  Customer#000039136        afZJC1mWpwvsfKT0211ZD6NQXVGETfl   \n",
       "3     130057  Customer#000130057            jQDBlCU2IlHmzkDfcqgIHg2eLsN   \n",
       "4      66958  Customer#000066958            h5jsmOq8nxf8Pz1Knqe GZdK4lh   \n",
       "5     127588  Customer#000127588      DbnvQxsG0,Nobhbj6n5cMUNPjfouzdFzH   \n",
       "6      86116  Customer#000086116  63BSp8bODm1dImPJEPTRmsSa4GqNA1SeRqFgx   \n",
       "7      81763  Customer#000081763     mZtn4M5r0KIw4aooP BXF3ReR RUlPJcAb   \n",
       "8      56614  Customer#000056614                    sRgxfCf6gDLmFnrO8UO   \n",
       "9      28547  Customer#000028547            AeWmD3BLrsSkmRY7O,wbB75i6Ll   \n",
       "\n",
       "   c_nationkey          c_phone c_acctbal c_mktsegment  \\\n",
       "0           13  23-644-998-4944   4809.84   AUTOMOBILE   \n",
       "1           15  25-884-345-1592   -686.40    MACHINERY   \n",
       "2            5  15-400-347-1643   5555.41    FURNITURE   \n",
       "3            9  19-938-862-4157   5009.55    FURNITURE   \n",
       "4           18  28-393-112-1873   9160.79    MACHINERY   \n",
       "5           14  24-409-883-5840    358.38     BUILDING   \n",
       "6            0  10-356-493-3518   3205.60   AUTOMOBILE   \n",
       "7            8  18-425-613-5972   8368.23    MACHINERY   \n",
       "8           11  21-657-845-6087   7623.48     BUILDING   \n",
       "9            1  11-711-951-5798   2095.42    MACHINERY   \n",
       "\n",
       "                                           c_comment       region  \\\n",
       "0  nstructions sleep final, regular deposits. qui...  MIDDLE EAST   \n",
       "1             ounts serve furiously. carefully expre       AFRICA   \n",
       "2  y? express theodolites haggle against the bold...       AFRICA   \n",
       "3   blithely regular packages. carefully bold acc...         ASIA   \n",
       "4  ggle quickly after the carefully stealthy depo...         ASIA   \n",
       "5                  accounts wake slyly along the bli       AFRICA   \n",
       "6    ironic ideas. quickly pending ideas sleep blith       AFRICA   \n",
       "7  ronic frays. slyly pending pinto beans are fur...         ASIA   \n",
       "8  sts. slyly ironic sheaves cajole dogged packag...  MIDDLE EAST   \n",
       "9  y regular foxes nag quickly after the express,...      AMERICA   \n",
       "\n",
       "  o_totalprice      odate  \n",
       "0    173665.47 1996-01-02  \n",
       "1    193846.25 1993-10-14  \n",
       "2    252004.18 1996-01-10  \n",
       "3    208660.75 1995-07-16  \n",
       "4    163243.98 1993-10-27  \n",
       "5    253724.56 1995-10-23  \n",
       "6    206680.66 1992-06-03  \n",
       "7    341734.47 1996-09-20  \n",
       "8    169405.01 1996-12-19  \n",
       "9    330793.52 1998-04-18  "
      ]
     },
     "execution_count": 7,
     "metadata": {},
     "output_type": "execute_result"
    }
   ],
   "source": [
    "amount_filter = tpch.o_totalprice > conditional_avg\n",
    "tpch[amount_filter].limit(10)"
   ]
  },
  {
   "cell_type": "markdown",
   "metadata": {},
   "source": [
    "By looking at the table sizes before and after applying the filter you can see the relative size of the subset taken. "
   ]
  },
  {
   "cell_type": "code",
   "execution_count": 8,
   "metadata": {},
   "outputs": [
    {
     "data": {
      "text/plain": [
       "1500000"
      ]
     },
     "execution_count": 8,
     "metadata": {},
     "output_type": "execute_result"
    }
   ],
   "source": [
    "tpch.count()"
   ]
  },
  {
   "cell_type": "code",
   "execution_count": 9,
   "metadata": {},
   "outputs": [
    {
     "data": {
      "text/plain": [
       "711969"
      ]
     },
     "execution_count": 9,
     "metadata": {},
     "output_type": "execute_result"
    }
   ],
   "source": [
    "tpch[amount_filter].count()"
   ]
  },
  {
   "cell_type": "markdown",
   "metadata": {},
   "source": [
    "Or even group by year and compare before and after:"
   ]
  },
  {
   "cell_type": "code",
   "execution_count": 10,
   "metadata": {},
   "outputs": [
    {
     "data": {
      "text/plain": [
       "ibis.Schema {  \n",
       "  c_custkey     int64\n",
       "  c_name        string\n",
       "  c_address     string\n",
       "  c_nationkey   int32\n",
       "  c_phone       string\n",
       "  c_acctbal     decimal(12, 2)\n",
       "  c_mktsegment  string\n",
       "  c_comment     string\n",
       "  region        string\n",
       "  o_totalprice  decimal(12, 2)\n",
       "  odate         timestamp\n",
       "}"
      ]
     },
     "execution_count": 10,
     "metadata": {},
     "output_type": "execute_result"
    }
   ],
   "source": [
    "tpch.schema()"
   ]
  },
  {
   "cell_type": "code",
   "execution_count": 11,
   "metadata": {},
   "outputs": [
    {
     "data": {
      "text/plain": [
       "   year  pre_count  post_count  fraction\n",
       "0  1994     227597      108087  0.474905\n",
       "1  1996     228626      108757  0.475698\n",
       "2  1992     227089      107815  0.474770\n",
       "3  1998     133623       63551  0.475599\n",
       "4  1993     226645      107703  0.475206\n",
       "5  1995     228637      108315  0.473742\n",
       "6  1997     227783      107741  0.472998"
      ]
     },
     "execution_count": 11,
     "metadata": {},
     "output_type": "execute_result"
    }
   ],
   "source": [
    "year = tpch.odate.year().name('year')\n",
    "\n",
    "pre_sizes = tpch.group_by(year).size()\n",
    "post_sizes = tpch[amount_filter].group_by(year).size().view()\n",
    "\n",
    "percent = ((post_sizes['count'] / pre_sizes['count'].cast('double'))\n",
    "           .name('fraction'))\n",
    "\n",
    "expr = (pre_sizes.join(post_sizes, pre_sizes.year == post_sizes.year)\n",
    "        [pre_sizes.year, \n",
    "         pre_sizes['count'].name('pre_count'),\n",
    "         post_sizes['count'].name('post_count'),\n",
    "         percent])\n",
    "expr"
   ]
  },
  {
   "cell_type": "markdown",
   "metadata": {},
   "source": [
    "## \"Existence\" filters\n",
    "\n",
    "\n",
    "Some filtering involves checking for the existence of a particular value in a column of another table, or amount the results of some value expression. This is common in many-to-many relationships, and can be performed in numerous different ways, but it's nice to be able to express it with a single concise statement and let Ibis compute it optimally.\n",
    "\n",
    "Here's some examples:\n",
    "\n",
    "- Filter down to customers having at least one open order\n",
    "- Find customers having no open orders with 1-URGENT status\n",
    "- Find stores (in the stores table) having the same name as a vendor (in the vendors table).\n",
    "\n",
    "We'll go ahead and solve the first couple of these problems using the TPC-H tables to illustrate the API:"
   ]
  },
  {
   "cell_type": "code",
   "execution_count": 12,
   "metadata": {},
   "outputs": [],
   "source": [
    "customer = con.table('tpch_customer')\n",
    "orders = con.table('tpch_orders')"
   ]
  },
  {
   "cell_type": "code",
   "execution_count": 13,
   "metadata": {},
   "outputs": [
    {
     "data": {
      "text/plain": [
       "   o_orderkey  o_custkey o_orderstatus o_totalprice o_orderdate  \\\n",
       "0           1      36901             O    173665.47  1996-01-02   \n",
       "1           2      78002             O     46929.18  1996-12-01   \n",
       "2           3     123314             F    193846.25  1993-10-14   \n",
       "3           4     136777             O     32151.78  1995-10-11   \n",
       "4           5      44485             F    144659.20  1994-07-30   \n",
       "\n",
       "  o_orderpriority          o_clerk  o_shippriority  \\\n",
       "0           5-LOW  Clerk#000000951               0   \n",
       "1        1-URGENT  Clerk#000000880               0   \n",
       "2           5-LOW  Clerk#000000955               0   \n",
       "3           5-LOW  Clerk#000000124               0   \n",
       "4           5-LOW  Clerk#000000925               0   \n",
       "\n",
       "                                           o_comment  \n",
       "0                 nstructions sleep furiously among   \n",
       "1   foxes. pending accounts at the pending, silen...  \n",
       "2  sly final accounts boost. carefully regular id...  \n",
       "3  sits. slyly regular warthogs cajole. regular, ...  \n",
       "4  quickly. bold deposits sleep slyly. packages u...  "
      ]
     },
     "execution_count": 13,
     "metadata": {},
     "output_type": "execute_result"
    }
   ],
   "source": [
    "orders.limit(5)"
   ]
  },
  {
   "cell_type": "markdown",
   "metadata": {},
   "source": [
    "We introduce the `any` reduction:"
   ]
  },
  {
   "cell_type": "code",
   "execution_count": 14,
   "metadata": {},
   "outputs": [],
   "source": [
    "has_open_orders = ((orders.o_orderstatus == 'O') & \n",
    "                   (customer.c_custkey == orders.o_custkey)).any()"
   ]
  },
  {
   "cell_type": "markdown",
   "metadata": {},
   "source": [
    "This is now a valid filter:"
   ]
  },
  {
   "cell_type": "code",
   "execution_count": 15,
   "metadata": {},
   "outputs": [
    {
     "data": {
      "text/plain": [
       "   c_custkey              c_name                              c_address  \\\n",
       "0          1  Customer#000000001                      IVhzIApeRb ot,c,E   \n",
       "1          2  Customer#000000002         XSTf4,NCwDVaWNe6tEgvwfmRchLXak   \n",
       "2          4  Customer#000000004                            XxVSJsLAGtn   \n",
       "3          5  Customer#000000005           KvpyuHCplrB84WgAiGV6sYpZq7Tj   \n",
       "4          7  Customer#000000007         TcGe5gaZNgVePxU5kRrvXBfkasDTea   \n",
       "5          8  Customer#000000008  I0B10bB0AymmC, 0PrRYBCP1yGJ8xcBPmWhl5   \n",
       "6         10  Customer#000000010     6LrEaV6KR6PLVcgl2ArL Q3rqzLzcT1 v2   \n",
       "7         11  Customer#000000011                PkWS 3HlXqwTuzrKg633BEi   \n",
       "8         13  Customer#000000013                nsXQu0oVjD7PM659uC3SRSp   \n",
       "9         14  Customer#000000014                        KXkletMlL2JQEA    \n",
       "\n",
       "   c_nationkey          c_phone c_acctbal c_mktsegment  \\\n",
       "0           15  25-989-741-2988    711.56     BUILDING   \n",
       "1           13  23-768-687-3665    121.65   AUTOMOBILE   \n",
       "2            4  14-128-190-5944   2866.83    MACHINERY   \n",
       "3            3  13-750-942-6364    794.47    HOUSEHOLD   \n",
       "4           18  28-190-982-9759   9561.95   AUTOMOBILE   \n",
       "5           17  27-147-574-9335   6819.74     BUILDING   \n",
       "6            5  15-741-346-9870   2753.54    HOUSEHOLD   \n",
       "7           23  33-464-151-3439   -272.60     BUILDING   \n",
       "8            3  13-761-547-5974   3857.34     BUILDING   \n",
       "9            1  11-845-129-3851   5266.30    FURNITURE   \n",
       "\n",
       "                                           c_comment  \n",
       "0  to the even, regular platelets. regular, ironi...  \n",
       "1  l accounts. blithely ironic theodolites integr...  \n",
       "2   requests. final, regular ideas sleep final accou  \n",
       "3  n accounts will have to unwind. foxes cajole a...  \n",
       "4  ainst the ironic, express theodolites. express...  \n",
       "5  among the slyly regular theodolites kindle bli...  \n",
       "6                    es regular deposits haggle. fur  \n",
       "7  ckages. requests sleep slyly. quickly even pin...  \n",
       "8  ounts sleep carefully after the close frays. c...  \n",
       "9                  , ironic packages across the unus  "
      ]
     },
     "execution_count": 15,
     "metadata": {},
     "output_type": "execute_result"
    }
   ],
   "source": [
    "customer[has_open_orders].limit(10)"
   ]
  },
  {
   "cell_type": "markdown",
   "metadata": {},
   "source": [
    "For the second example, in which we want to find customers not having any open urgent orders, we write down the condition that they _do_ have some first:"
   ]
  },
  {
   "cell_type": "code",
   "execution_count": 16,
   "metadata": {},
   "outputs": [],
   "source": [
    "has_open_urgent_orders = ((orders.o_orderstatus == 'O') & \n",
    "                          (orders.o_orderpriority == '1-URGENT') & \n",
    "                          (customer.c_custkey == orders.o_custkey)).any()"
   ]
  },
  {
   "cell_type": "markdown",
   "metadata": {},
   "source": [
    "Now, we can negate this condition and use it as a filter:"
   ]
  },
  {
   "cell_type": "code",
   "execution_count": 17,
   "metadata": {},
   "outputs": [
    {
     "data": {
      "text/plain": [
       "75801"
      ]
     },
     "execution_count": 17,
     "metadata": {},
     "output_type": "execute_result"
    }
   ],
   "source": [
    "customer[-has_open_urgent_orders].count()"
   ]
  },
  {
   "cell_type": "markdown",
   "metadata": {},
   "source": [
    "In this case, it is true that `customer.c_custkey` has no duplicate values, but that need not be the case. There could be multiple copies of any given value in either table column being compared, and the behavior will be the same (existence or non-existence is verified)."
   ]
  }
 ],
 "metadata": {
  "kernelspec": {
   "display_name": "Python 3",
   "language": "python",
   "name": "python3"
  },
  "language_info": {
   "codemirror_mode": {
    "name": "ipython",
    "version": 3
   },
   "file_extension": ".py",
   "mimetype": "text/x-python",
   "name": "python",
   "nbconvert_exporter": "python",
   "pygments_lexer": "ipython3",
   "version": "3.6.10"
  }
 },
 "nbformat": 4,
 "nbformat_minor": 1
}

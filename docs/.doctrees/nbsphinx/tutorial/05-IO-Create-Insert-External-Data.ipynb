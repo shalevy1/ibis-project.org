{
 "cells": [
  {
   "cell_type": "markdown",
   "metadata": {},
   "source": [
    "# IO, `CREATE`/`INSERT`, and External Data"
   ]
  },
  {
   "cell_type": "markdown",
   "metadata": {},
   "source": [
    "## Setup"
   ]
  },
  {
   "cell_type": "code",
   "execution_count": 1,
   "metadata": {
    "scrolled": true
   },
   "outputs": [],
   "source": [
    "import ibis\n",
    "import os\n",
    "hdfs_port = int(os.environ.get('IBIS_TEST_WEBHDFS_PORT', 50070))\n",
    "user = os.environ.get('IBIS_TEST_WEBHDFS_USER', 'ubuntu')\n",
    "hdfs = ibis.hdfs_connect(host='impala', user=user, port=hdfs_port)\n",
    "con = ibis.impala.connect(host='impala', database='ibis_testing',\n",
    "                          hdfs_client=hdfs)\n",
    "ibis.options.interactive = True"
   ]
  },
  {
   "cell_type": "markdown",
   "metadata": {},
   "source": [
    "## Creating new Impala tables from Ibis expressions\n",
    "\n",
    "\n",
    "Suppose you have an Ibis expression that produces a table:"
   ]
  },
  {
   "cell_type": "code",
   "execution_count": 2,
   "metadata": {},
   "outputs": [
    {
     "data": {
      "text/plain": [
       "  string_col  max_foo  min_foo  sum_foo\n",
       "0          9       81       81    59130\n",
       "1          6       54       54    39420\n",
       "2          4       36       36    26280\n",
       "3          8       72       72    52560\n",
       "4          7       63       63    45990\n",
       "5          5       45       45    32850"
      ]
     },
     "execution_count": 2,
     "metadata": {},
     "output_type": "execute_result"
    }
   ],
   "source": [
    "table = con.table('functional_alltypes')\n",
    "\n",
    "t2 = table[table, (table.bigint_col - table.int_col).name('foo')]\n",
    "\n",
    "expr = (t2\n",
    "        [t2.bigint_col > 30]\n",
    "        .group_by('string_col')\n",
    "        .aggregate(min_foo=lambda t: t.foo.min(),\n",
    "                   max_foo=lambda t: t.foo.max(),\n",
    "                   sum_foo=lambda t: t.foo.sum()))\n",
    "expr"
   ]
  },
  {
   "cell_type": "markdown",
   "metadata": {},
   "source": [
    "To create a table in the database from the results of this expression, use the connection's `create_table` method:"
   ]
  },
  {
   "cell_type": "code",
   "execution_count": 3,
   "metadata": {},
   "outputs": [],
   "source": [
    "con.create_table('testing_table', expr, database='ibis_testing')"
   ]
  },
  {
   "cell_type": "markdown",
   "metadata": {},
   "source": [
    "By default, this creates a table stored as **Parquet format** in HDFS. Support for views, external tables, configurable file formats, and so forth, will come in the future. Feedback on what kind of interface would be useful for that would help."
   ]
  },
  {
   "cell_type": "code",
   "execution_count": 4,
   "metadata": {},
   "outputs": [
    {
     "data": {
      "text/plain": [
       "  string_col  max_foo  min_foo  sum_foo\n",
       "0          9       81       81    59130\n",
       "1          6       54       54    39420\n",
       "2          4       36       36    26280\n",
       "3          8       72       72    52560\n",
       "4          7       63       63    45990\n",
       "5          5       45       45    32850"
      ]
     },
     "execution_count": 4,
     "metadata": {},
     "output_type": "execute_result"
    }
   ],
   "source": [
    "con.table('testing_table')"
   ]
  },
  {
   "cell_type": "markdown",
   "metadata": {},
   "source": [
    "Tables can be similarly dropped with `drop_table`"
   ]
  },
  {
   "cell_type": "code",
   "execution_count": 5,
   "metadata": {},
   "outputs": [],
   "source": [
    "con.drop_table('testing_table', database='ibis_testing')"
   ]
  },
  {
   "cell_type": "markdown",
   "metadata": {},
   "source": [
    "## Inserting data into existing Impala tables\n",
    "\n",
    "\n",
    "The client's `insert` method can append new data to an existing table or overwrite the data that is in there."
   ]
  },
  {
   "cell_type": "code",
   "execution_count": 6,
   "metadata": {},
   "outputs": [
    {
     "data": {
      "text/plain": [
       "  string_col  max_foo  min_foo  sum_foo\n",
       "0          9       81       81    59130\n",
       "1          6       54       54    39420\n",
       "2          4       36       36    26280\n",
       "3          8       72       72    52560\n",
       "4          7       63       63    45990\n",
       "5          5       45       45    32850"
      ]
     },
     "execution_count": 6,
     "metadata": {},
     "output_type": "execute_result"
    }
   ],
   "source": [
    "con.create_table('testing_table', expr)\n",
    "con.table('testing_table')"
   ]
  },
  {
   "cell_type": "code",
   "execution_count": 7,
   "metadata": {},
   "outputs": [
    {
     "data": {
      "text/plain": [
       "   string_col  max_foo  min_foo  sum_foo\n",
       "0           9       81       81    59130\n",
       "1           6       54       54    39420\n",
       "2           4       36       36    26280\n",
       "3           8       72       72    52560\n",
       "4           7       63       63    45990\n",
       "5           5       45       45    32850\n",
       "6           9       81       81    59130\n",
       "7           6       54       54    39420\n",
       "8           4       36       36    26280\n",
       "9           8       72       72    52560\n",
       "10          7       63       63    45990\n",
       "11          5       45       45    32850"
      ]
     },
     "execution_count": 7,
     "metadata": {},
     "output_type": "execute_result"
    }
   ],
   "source": [
    "con.insert('testing_table', expr)\n",
    "con.table('testing_table')"
   ]
  },
  {
   "cell_type": "code",
   "execution_count": 8,
   "metadata": {},
   "outputs": [],
   "source": [
    "con.drop_table('testing_table')"
   ]
  },
  {
   "cell_type": "markdown",
   "metadata": {},
   "source": [
    "## Uploading / downloading data from HDFS"
   ]
  },
  {
   "cell_type": "markdown",
   "metadata": {},
   "source": [
    "If you've set up an HDFS connection, you can use the Ibis HDFS interface to look through your data and read and write files to and from HDFS:"
   ]
  },
  {
   "cell_type": "code",
   "execution_count": 9,
   "metadata": {},
   "outputs": [
    {
     "data": {
      "text/plain": [
       "['README.md',\n",
       " 'avro',\n",
       " 'awards_players.csv',\n",
       " 'batting.csv',\n",
       " 'csv',\n",
       " 'diamonds.csv',\n",
       " 'functional_alltypes.csv',\n",
       " 'functional_alltypes.parquet',\n",
       " 'geo.csv',\n",
       " 'ibis_testing.db',\n",
       " 'parquet',\n",
       " 'udf']"
      ]
     },
     "execution_count": 9,
     "metadata": {},
     "output_type": "execute_result"
    }
   ],
   "source": [
    "hdfs = con.hdfs\n",
    "hdfs.ls('/__ibis/ibis-testing-data')"
   ]
  },
  {
   "cell_type": "code",
   "execution_count": 10,
   "metadata": {},
   "outputs": [
    {
     "data": {
      "text/plain": [
       "['functional_alltypes',\n",
       " 'tpch_customer',\n",
       " 'tpch_lineitem',\n",
       " 'tpch_nation',\n",
       " 'tpch_orders',\n",
       " 'tpch_part',\n",
       " 'tpch_partsupp',\n",
       " 'tpch_region',\n",
       " 'tpch_supplier']"
      ]
     },
     "execution_count": 10,
     "metadata": {},
     "output_type": "execute_result"
    }
   ],
   "source": [
    "hdfs.ls('/__ibis/ibis-testing-data/parquet')"
   ]
  },
  {
   "cell_type": "markdown",
   "metadata": {},
   "source": [
    "Suppose we wanted to download `/__ibis/ibis-testing-data/parquet/functional_alltypes`, which is a directory. We need only do:"
   ]
  },
  {
   "cell_type": "code",
   "execution_count": 11,
   "metadata": {},
   "outputs": [
    {
     "data": {
      "text/plain": [
       "'/ibis/docs/source/tutorial/parquet_dir'"
      ]
     },
     "execution_count": 11,
     "metadata": {},
     "output_type": "execute_result"
    }
   ],
   "source": [
    "!rm -rf parquet_dir/\n",
    "hdfs.get('/__ibis/ibis-testing-data/parquet/functional_alltypes', 'parquet_dir')"
   ]
  },
  {
   "cell_type": "markdown",
   "metadata": {},
   "source": [
    "Now we have that directory locally:"
   ]
  },
  {
   "cell_type": "code",
   "execution_count": 12,
   "metadata": {},
   "outputs": [
    {
     "name": "stdout",
     "output_type": "stream",
     "text": [
      "9a41de519352ab07-4e76bc4d9fb5a789_1624886651_data.0.parq\r\n",
      "9a41de519352ab07-4e76bc4d9fb5a78a_778826485_data.0.parq\r\n",
      "9a41de519352ab07-4e76bc4d9fb5a78b_1277612014_data.0.parq\r\n"
     ]
    }
   ],
   "source": [
    "!ls parquet_dir/"
   ]
  },
  {
   "cell_type": "markdown",
   "metadata": {},
   "source": [
    "Files and directories can be written to HDFS just as easily using `put`:"
   ]
  },
  {
   "cell_type": "code",
   "execution_count": 13,
   "metadata": {},
   "outputs": [
    {
     "data": {
      "text/plain": [
       "'/__ibis/dir-write-example'"
      ]
     },
     "execution_count": 13,
     "metadata": {},
     "output_type": "execute_result"
    }
   ],
   "source": [
    "path = '/__ibis/dir-write-example'\n",
    "if hdfs.exists(path):\n",
    "    hdfs.rmdir(path)\n",
    "hdfs.put(path, 'parquet_dir', verbose=True)"
   ]
  },
  {
   "cell_type": "code",
   "execution_count": 14,
   "metadata": {},
   "outputs": [
    {
     "data": {
      "text/plain": [
       "['9a41de519352ab07-4e76bc4d9fb5a789_1624886651_data.0.parq',\n",
       " '9a41de519352ab07-4e76bc4d9fb5a78a_778826485_data.0.parq',\n",
       " '9a41de519352ab07-4e76bc4d9fb5a78b_1277612014_data.0.parq']"
      ]
     },
     "execution_count": 14,
     "metadata": {},
     "output_type": "execute_result"
    }
   ],
   "source": [
    "hdfs.ls('/__ibis/dir-write-example')"
   ]
  },
  {
   "cell_type": "markdown",
   "metadata": {},
   "source": [
    "Delete files with `rm` or directories with `rmdir`:"
   ]
  },
  {
   "cell_type": "code",
   "execution_count": 15,
   "metadata": {},
   "outputs": [],
   "source": [
    "hdfs.rmdir('/__ibis/dir-write-example')"
   ]
  },
  {
   "cell_type": "code",
   "execution_count": 16,
   "metadata": {},
   "outputs": [],
   "source": [
    "!rm -rf parquet_dir/"
   ]
  },
  {
   "cell_type": "markdown",
   "metadata": {},
   "source": [
    "## Queries on Parquet, Avro, and Delimited files in HDFS\n",
    "\n",
    "\n",
    "Ibis can easily create temporary or persistent Impala tables that reference data in the following formats:\n",
    "\n",
    "- Parquet (`parquet_file`)\n",
    "- Avro (`avro_file`)\n",
    "- Delimited text formats (CSV, TSV, etc.) (`delimited_file`)"
   ]
  },
  {
   "cell_type": "markdown",
   "metadata": {},
   "source": [
    "Parquet is the easiest because the schema can be read from the data files:"
   ]
  },
  {
   "cell_type": "code",
   "execution_count": 17,
   "metadata": {},
   "outputs": [
    {
     "data": {
      "text/plain": [
       "   l_orderkey  l_partkey  l_suppkey  l_linenumber l_quantity l_extendedprice  \\\n",
       "0           1     155190       7706             1      17.00        21168.23   \n",
       "1           1      67310       7311             2      36.00        45983.16   \n",
       "\n",
       "  l_discount l_tax l_returnflag l_linestatus  l_shipdate l_commitdate  \\\n",
       "0       0.04  0.02            N            O  1996-03-13   1996-02-12   \n",
       "1       0.09  0.06            N            O  1996-04-12   1996-02-28   \n",
       "\n",
       "  l_receiptdate     l_shipinstruct l_shipmode  \\\n",
       "0    1996-03-22  DELIVER IN PERSON      TRUCK   \n",
       "1    1996-04-20   TAKE BACK RETURN       MAIL   \n",
       "\n",
       "                            l_comment  \n",
       "0             egular courts above the  \n",
       "1  ly final dependencies: slyly bold   "
      ]
     },
     "execution_count": 17,
     "metadata": {},
     "output_type": "execute_result"
    }
   ],
   "source": [
    "path = '/__ibis/ibis-testing-data/parquet/tpch_lineitem'\n",
    "\n",
    "lineitem = con.parquet_file(path)\n",
    "lineitem.limit(2)"
   ]
  },
  {
   "cell_type": "code",
   "execution_count": 18,
   "metadata": {},
   "outputs": [
    {
     "data": {
      "text/plain": [
       "Decimal('229577310901.20')"
      ]
     },
     "execution_count": 18,
     "metadata": {},
     "output_type": "execute_result"
    }
   ],
   "source": [
    "lineitem.l_extendedprice.sum()"
   ]
  },
  {
   "cell_type": "markdown",
   "metadata": {},
   "source": [
    "If you want to query a Parquet file and also create a table in Impala that remains after your session, you can pass more information to `parquet_file`:"
   ]
  },
  {
   "cell_type": "code",
   "execution_count": 19,
   "metadata": {},
   "outputs": [
    {
     "data": {
      "text/plain": [
       "Decimal('229577310901.20')"
      ]
     },
     "execution_count": 19,
     "metadata": {},
     "output_type": "execute_result"
    }
   ],
   "source": [
    "table = con.parquet_file(path, name='my_parquet_table', \n",
    "                         database='ibis_testing',\n",
    "                         persist=True)\n",
    "table.l_extendedprice.sum()"
   ]
  },
  {
   "cell_type": "code",
   "execution_count": 20,
   "metadata": {},
   "outputs": [
    {
     "data": {
      "text/plain": [
       "Decimal('229577310901.20')"
      ]
     },
     "execution_count": 20,
     "metadata": {},
     "output_type": "execute_result"
    }
   ],
   "source": [
    "con.table('my_parquet_table').l_extendedprice.sum()"
   ]
  },
  {
   "cell_type": "code",
   "execution_count": 21,
   "metadata": {},
   "outputs": [],
   "source": [
    "con.drop_table('my_parquet_table')"
   ]
  },
  {
   "cell_type": "markdown",
   "metadata": {},
   "source": [
    "To query delimited files, you need to write down an Ibis schema. At some point we'd like to build some helper tools that will infer the schema for you, all in good time.\n",
    "\n",
    "There's some CSV files in the test folder, so let's use those:"
   ]
  },
  {
   "cell_type": "code",
   "execution_count": 22,
   "metadata": {},
   "outputs": [
    {
     "data": {
      "text/plain": [
       "'/ibis/docs/source/tutorial/csv-files'"
      ]
     },
     "execution_count": 22,
     "metadata": {},
     "output_type": "execute_result"
    }
   ],
   "source": [
    "hdfs.get('/__ibis/ibis-testing-data/csv', 'csv-files')"
   ]
  },
  {
   "cell_type": "code",
   "execution_count": 23,
   "metadata": {},
   "outputs": [
    {
     "name": "stdout",
     "output_type": "stream",
     "text": [
      "63IEbRheTh,0.679388707915,6\r\n",
      "mG4hlqnjeG,2.80710565922,15\r\n",
      "JTPdX9SZH5,-0.155126406372,55\r\n",
      "2jcl6FypOl,1.03787834032,21\r\n",
      "k3TbJLaadQ,-1.40190801103,23\r\n",
      "rP5J4xvinM,-0.442092712869,22\r\n",
      "WniUylixYt,-0.863748033806,27\r\n",
      "znsDuKOB1n,-0.566029637098,47\r\n",
      "4SRP9jlo1M,0.331460412318,88\r\n",
      "KsfjPyDf5e,-0.578930506363,70\r\n"
     ]
    }
   ],
   "source": [
    "!cat csv-files/0.csv"
   ]
  },
  {
   "cell_type": "code",
   "execution_count": 24,
   "metadata": {},
   "outputs": [],
   "source": [
    "!rm -rf csv-files/"
   ]
  },
  {
   "cell_type": "markdown",
   "metadata": {},
   "source": [
    "The schema here is pretty simple (see `ibis.schema` for more):"
   ]
  },
  {
   "cell_type": "code",
   "execution_count": 25,
   "metadata": {},
   "outputs": [
    {
     "data": {
      "text/plain": [
       "          foo       bar  baz\n",
       "0  63IEbRheTh  0.679389    6\n",
       "1  mG4hlqnjeG  2.807106   15\n",
       "2  JTPdX9SZH5 -0.155126   55\n",
       "3  2jcl6FypOl  1.037878   21\n",
       "4  k3TbJLaadQ -1.401908   23\n",
       "5  rP5J4xvinM -0.442093   22\n",
       "6  WniUylixYt -0.863748   27\n",
       "7  znsDuKOB1n -0.566030   47\n",
       "8  4SRP9jlo1M  0.331460   88\n",
       "9  KsfjPyDf5e -0.578931   70"
      ]
     },
     "execution_count": 25,
     "metadata": {},
     "output_type": "execute_result"
    }
   ],
   "source": [
    "schema = ibis.schema([('foo', 'string'),\n",
    "                      ('bar', 'double'),\n",
    "                      ('baz', 'int32')])\n",
    "\n",
    "table = con.delimited_file('/__ibis/ibis-testing-data/csv',\n",
    "                           schema)\n",
    "table.limit(10)"
   ]
  },
  {
   "cell_type": "code",
   "execution_count": 26,
   "metadata": {},
   "outputs": [
    {
     "data": {
      "text/plain": [
       "   count  nulls       min       max       sum    mean  approx_nunique\n",
       "0    100      0 -1.401908  2.807106  8.479978  0.0848              10"
      ]
     },
     "execution_count": 26,
     "metadata": {},
     "output_type": "execute_result"
    }
   ],
   "source": [
    "table.bar.summary()"
   ]
  },
  {
   "cell_type": "markdown",
   "metadata": {},
   "source": [
    "For functions like `parquet_file` and `delimited_file`, an HDFS directory must be passed (we'll add support for S3 and other filesystems later) and the directory must contain files all having the same schema."
   ]
  },
  {
   "cell_type": "markdown",
   "metadata": {},
   "source": [
    "If you have Avro data, you can query it too if you have the full avro schema:"
   ]
  },
  {
   "cell_type": "code",
   "execution_count": 27,
   "metadata": {
    "scrolled": true
   },
   "outputs": [
    {
     "data": {
      "text/plain": [
       "Empty DataFrame\n",
       "Columns: [r_regionkey, r_name, r_comment]\n",
       "Index: []"
      ]
     },
     "execution_count": 27,
     "metadata": {},
     "output_type": "execute_result"
    }
   ],
   "source": [
    "avro_schema = {\n",
    "    \"fields\": [\n",
    "        {\"type\": [\"int\", \"null\"], \"name\": \"R_REGIONKEY\"},\n",
    "        {\"type\": [\"string\", \"null\"], \"name\": \"R_NAME\"},\n",
    "        {\"type\": [\"string\", \"null\"], \"name\": \"R_COMMENT\"}],\n",
    "    \"type\": \"record\",\n",
    "    \"name\": \"a\"\n",
    "}\n",
    "\n",
    "path = '/__ibis/ibis-testing-data/avro/tpch.region'\n",
    "\n",
    "hdfs.mkdir(path)\n",
    "table = con.avro_file(path, avro_schema)\n",
    "table"
   ]
  },
  {
   "cell_type": "markdown",
   "metadata": {},
   "source": [
    "## Other helper functions for interacting with the database\n",
    "\n",
    "\n",
    "We're adding a growing list of useful utility functions for interacting with an Impala cluster on the client object. The idea is that you should be able to do any database-admin-type work with Ibis and not have to switch over to the Impala SQL shell. Any ways we can make this more pleasant, please let us know.\n",
    "\n",
    "Here's some of the features, which we'll give examples for:\n",
    "\n",
    "- Listing and searching for available databases and tables\n",
    "- Creating and dropping databases\n",
    "- Getting table schemas"
   ]
  },
  {
   "cell_type": "code",
   "execution_count": 28,
   "metadata": {},
   "outputs": [
    {
     "data": {
      "text/plain": [
       "['ibis_testing', 'ibis_testing_tmp_db']"
      ]
     },
     "execution_count": 28,
     "metadata": {},
     "output_type": "execute_result"
    }
   ],
   "source": [
    "con.list_databases(like='ibis*')"
   ]
  },
  {
   "cell_type": "code",
   "execution_count": 29,
   "metadata": {},
   "outputs": [
    {
     "data": {
      "text/plain": [
       "['tpch_customer',\n",
       " 'tpch_lineitem',\n",
       " 'tpch_nation',\n",
       " 'tpch_orders',\n",
       " 'tpch_part',\n",
       " 'tpch_partsupp',\n",
       " 'tpch_region',\n",
       " 'tpch_region_avro',\n",
       " 'tpch_supplier']"
      ]
     },
     "execution_count": 29,
     "metadata": {},
     "output_type": "execute_result"
    }
   ],
   "source": [
    "con.list_tables(database='ibis_testing', like='tpch*')"
   ]
  },
  {
   "cell_type": "code",
   "execution_count": 30,
   "metadata": {},
   "outputs": [
    {
     "data": {
      "text/plain": [
       "ibis.Schema {  \n",
       "  id               int32\n",
       "  bool_col         boolean\n",
       "  tinyint_col      int8\n",
       "  smallint_col     int16\n",
       "  int_col          int32\n",
       "  bigint_col       int64\n",
       "  float_col        float32\n",
       "  double_col       float64\n",
       "  date_string_col  string\n",
       "  string_col       string\n",
       "  timestamp_col    timestamp\n",
       "  year             int32\n",
       "  month            int32\n",
       "}"
      ]
     },
     "execution_count": 30,
     "metadata": {},
     "output_type": "execute_result"
    }
   ],
   "source": [
    "schema = con.get_schema('functional_alltypes')\n",
    "schema"
   ]
  },
  {
   "cell_type": "markdown",
   "metadata": {},
   "source": [
    "Databases can be created, too, and you can set the storage path in HDFS you want for the data files"
   ]
  },
  {
   "cell_type": "code",
   "execution_count": 31,
   "metadata": {},
   "outputs": [],
   "source": [
    "db = 'ibis_testing2'\n",
    "con.create_database(db, path='/__ibis/my-test-database', force=True)\n",
    "\n",
    "# you may or may not have to give the impala user write and execute permissions to '/__ibis/my-test-database'\n",
    "hdfs.chmod('/__ibis/my-test-database', '777')"
   ]
  },
  {
   "cell_type": "code",
   "execution_count": 32,
   "metadata": {},
   "outputs": [],
   "source": [
    "con.create_table('example_table', con.table('functional_alltypes'),\n",
    "                 database=db, force=True)"
   ]
  },
  {
   "cell_type": "markdown",
   "metadata": {},
   "source": [
    "Hopefully, there will be data files in the indicated spot in HDFS:"
   ]
  },
  {
   "cell_type": "code",
   "execution_count": 33,
   "metadata": {},
   "outputs": [
    {
     "data": {
      "text/plain": [
       "['example_table']"
      ]
     },
     "execution_count": 33,
     "metadata": {},
     "output_type": "execute_result"
    }
   ],
   "source": [
    "hdfs.ls('/__ibis/my-test-database')"
   ]
  },
  {
   "cell_type": "markdown",
   "metadata": {},
   "source": [
    "To drop a database, including all tables in it, you can use `drop_database` with `force=True`:"
   ]
  },
  {
   "cell_type": "code",
   "execution_count": 34,
   "metadata": {},
   "outputs": [],
   "source": [
    "con.drop_database(db, force=True)"
   ]
  },
  {
   "cell_type": "markdown",
   "metadata": {},
   "source": [
    "## Dealing with Partitioned tables in Impala"
   ]
  },
  {
   "cell_type": "markdown",
   "metadata": {},
   "source": [
    "**Placeholder:** This is not yet implemented. If you have use cases, please let us know."
   ]
  },
  {
   "cell_type": "markdown",
   "metadata": {},
   "source": [
    "## Faster queries on small data in Impala\n",
    "\n",
    "\n",
    "Since Impala internally uses LLVM to compile parts of queries (aka \"codegen\") to make them faster on large data sets there is a certain amount of overhead with running many kinds of queries, even on small datasets. You can disable LLVM code generation when using Ibis, which may significantly speed up queries on smaller datasets:"
   ]
  },
  {
   "cell_type": "code",
   "execution_count": 35,
   "metadata": {},
   "outputs": [],
   "source": [
    "from numpy.random import rand"
   ]
  },
  {
   "cell_type": "code",
   "execution_count": 36,
   "metadata": {},
   "outputs": [],
   "source": [
    "con.disable_codegen()"
   ]
  },
  {
   "cell_type": "code",
   "execution_count": 37,
   "metadata": {},
   "outputs": [
    {
     "name": "stdout",
     "output_type": "stream",
     "text": [
      "27.1 ms ± 2.14 ms per loop (mean ± std. dev. of 7 runs, 10 loops each)\n"
     ]
    }
   ],
   "source": [
    "t = con.table('ibis_testing.functional_alltypes')\n",
    "\n",
    "%timeit (t.double_col + rand()).sum().execute()"
   ]
  },
  {
   "cell_type": "code",
   "execution_count": 38,
   "metadata": {},
   "outputs": [],
   "source": [
    "# Turn codegen back on\n",
    "con.disable_codegen(False)"
   ]
  },
  {
   "cell_type": "code",
   "execution_count": 39,
   "metadata": {},
   "outputs": [
    {
     "name": "stdout",
     "output_type": "stream",
     "text": [
      "26.6 ms ± 2.16 ms per loop (mean ± std. dev. of 7 runs, 10 loops each)\n"
     ]
    }
   ],
   "source": [
    "%timeit (t.double_col + rand()).sum().execute()"
   ]
  },
  {
   "cell_type": "markdown",
   "metadata": {},
   "source": [
    "It's important to remember that codegen is a fixed overhead and will significantly speed up queries on big data"
   ]
  }
 ],
 "metadata": {
  "kernelspec": {
   "display_name": "Python 3",
   "language": "python",
   "name": "python3"
  },
  "language_info": {
   "codemirror_mode": {
    "name": "ipython",
    "version": 3
   },
   "file_extension": ".py",
   "mimetype": "text/x-python",
   "name": "python",
   "nbconvert_exporter": "python",
   "pygments_lexer": "ipython3",
   "version": "3.6.10"
  }
 },
 "nbformat": 4,
 "nbformat_minor": 1
}
